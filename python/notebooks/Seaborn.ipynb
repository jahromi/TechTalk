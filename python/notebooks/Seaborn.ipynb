{
 "cells": [
  {
   "cell_type": "markdown",
   "id": "waiting-mississippi",
   "metadata": {},
   "source": [
    "#### seaborn: statistical data visualization\n",
    "\n",
    "![](https://seaborn.pydata.org/_static/logo-wide-lightbg.svg)\n",
    "\n",
    "#### Sources and Contents to review\n",
    "Seaborn is a library for making statistical graphics in Python. It builds on top of matplotlib and integrates closely with pandas data structures. Seaborn helps you explore and understand your data. Its plotting functions operate on dataframes and arrays containing whole datasets and internally perform the necessary semantic mapping and statistical aggregation to produce informative plots. Its dataset-oriented, declarative API lets you focus on what the different elements of your plots mean, rather than on the details of how to draw them.\n",
    "\n",
    "#### Sources and Contents to review \n",
    "1. [Seaborn documentation](https://seaborn.pydata.org/index.html)\n",
    "1. [User guide and tutorial](https://seaborn.pydata.org/tutorial.html)\n",
    "1. [Learn Data Visualization Using Python Seaborn](https://medium.com/edureka/python-seaborn-tutorial-646fdddff322)\n",
    "1. [Tutorialspoint seaborn](https://www.tutorialspoint.com/seaborn/index.htm)\n",
    "1. [Seaborn Tutorial](https://www.youtube.com/watch?v=6GUZXDef2U0)\n",
    "1. [Cheat Sheet](https://s3.amazonaws.com/assets.datacamp.com/blog_assets/Python_Seaborn_Cheat_Sheet.pdf)"
   ]
  },
  {
   "cell_type": "markdown",
   "id": "scheduled-repair",
   "metadata": {},
   "source": [
    "#### **Tutorial**\n",
    "\n",
    "\n",
    "Official releases of seaborn can be installed from PyPI using pip or can installed usning conda:"
   ]
  },
  {
   "cell_type": "code",
   "execution_count": null,
   "id": "practical-citizenship",
   "metadata": {},
   "outputs": [],
   "source": [
    "# !pip install seaborn\n",
    "# or\n",
    "# !conda install seaborn"
   ]
  },
  {
   "cell_type": "code",
   "execution_count": null,
   "id": "precious-thread",
   "metadata": {},
   "outputs": [],
   "source": []
  },
  {
   "cell_type": "code",
   "execution_count": null,
   "id": "serial-abuse",
   "metadata": {},
   "outputs": [],
   "source": [
    "import seaborn as sns\n",
    "import matplotlib.pyplot import plt\n",
    "import pandas as pd"
   ]
  },
  {
   "cell_type": "code",
   "execution_count": null,
   "id": "innovative-vegetation",
   "metadata": {},
   "outputs": [],
   "source": []
  },
  {
   "cell_type": "code",
   "execution_count": null,
   "id": "intermediate-principal",
   "metadata": {},
   "outputs": [],
   "source": []
  },
  {
   "cell_type": "code",
   "execution_count": null,
   "id": "derived-regular",
   "metadata": {},
   "outputs": [],
   "source": []
  }
 ],
 "metadata": {
  "kernelspec": {
   "display_name": "Python 3",
   "language": "python",
   "name": "python3"
  },
  "language_info": {
   "codemirror_mode": {
    "name": "ipython",
    "version": 3
   },
   "file_extension": ".py",
   "mimetype": "text/x-python",
   "name": "python",
   "nbconvert_exporter": "python",
   "pygments_lexer": "ipython3",
   "version": "3.8.5"
  }
 },
 "nbformat": 4,
 "nbformat_minor": 5
}
