{
 "cells": [
  {
   "cell_type": "markdown",
   "metadata": {
    "id": "BpyXuFXHPkzl"
   },
   "source": [
    "### **Matplotlib practice notebook**"
   ]
  },
  {
   "cell_type": "markdown",
   "metadata": {
    "id": "yoQamo8dWpli"
   },
   "source": [
    "### **Matplotlib Overview**\n",
    "\n",
    "Matplotlib is a plotting library for the Python programming language and its numerical mathematics extension NumPy. It provides an object-oriented API for embedding plots into applications using general-purpose GUI toolkits like Tkinter, wxPython, Qt, or GTK+. There is also a procedural \"pylab\" interface based on a state machine (like OpenGL), designed to closely resemble that of MATLAB, though its use is discouraged.\n",
    "\n",
    "Matplotlib was originally written by John D. Hunter, since then it has an active development community, and is distributed under a BSD-style license. Michael Droettboom was nominated as matplotlib's lead developer shortly before John Hunter's death in August 2012, and further joined by Thomas Caswell.\n",
    "\n",
    "Matplotlib 2.0.x supports Python versions 2.7 through 3.6. Python 3 support started with Matplotlib 1.2. Matplotlib 1.4 is the last version to support Python 2.6. Matplotlib has pledged not to support Python 2 past 2020 by signing the Python 3 Statement [wikipedia](https://en.wikipedia.org/wiki/Matplotlib).\n",
    "\n",
    "Since NumPy was introduced to the world 15 years ago, the primary array programming library has grown into the fundamental package for scientific computing with Python. NumPy serves as an efficient multi-dimensional container of generic data and plays a leading role in scientific computing. It is an essential component in research analysis pipelines across fields as diverse as physics, chemistry, astronomy, geoscience, biology, psychology, materials science, engineering, finance and economics. NumPy is open-sourced and has myriad contributors ([After 15 Long Years, a NumPy Paper Finally Appears!](https://medium.com/syncedreview/after-15-long-years-a-numpy-paper-finally-appears-38875a81b899)).\n",
    "\n",
    "![](https://miro.medium.com/max/800/0*S0IPaotuUn-fhnOj.png)\n",
    "\n",
    "But one thing has always been missing. A thorough review paper that is fully representative of the team behind Numpy’s genesis has never been published.\n",
    "The missing chapter in the NumPy story was published in September 2020 — with the appearance of the paper Array Programming with NumPy in leading scientific journal Nature.\n",
    "\n",
    "\n",
    "![](../media/numpy_paper.png)\n",
    "\n",
    "[Numpy Team in twiter](https://twitter.com/numpy_team)\n",
    "\n",
    "\n",
    "\n",
    "\n",
    "\n",
    "### **Why Numpy is so fundemental** \n",
    "\n",
    "NumPy. This library has become fundamental, it is hard to imagine a world without it, or before its birth. NumPy has been around since 2005, and if you ever worked with data in Python, you must have used it, one way or the other.\n",
    "\n",
    "### **What Makes NumPy So Good?**\n",
    "NumPy has a syntax which is simultaneously compact, powerful and expressive. It allows users to manage data in vectors, matrices and higher dimensional arrays. Within those data structures, it allows users to:\n",
    "\n",
    "* Access\n",
    "* Manipulate\n",
    "* Compute\n",
    "\n",
    "Do you recall this picture?\n",
    "\n",
    "![](https://miro.medium.com/max/500/1*oV-HpkvZlDWmQgYqlyd60Q.jpeg)\n",
    "\n",
    "The effort to obtain the first representation of a black hole was made possible, not only by the hard work and dedication of a team of researchers but by the support of Numpy ([Source](https://towardsdatascience.com/why-numpy-is-so-fundamental-78ae2807300))\n",
    "\n",
    "#### Sources and Contents to review \n",
    "1. [Complete Python NumPy Tutorial (Creating Arrays, Indexing, Math, Statistics, Reshaping)](https://www.youtube.com/watch?v=GB9ByFAIAH4)\n",
    "2. [Data Camp Cheat Sheet](https://s3.amazonaws.com/assets.datacamp.com/blog_assets/Numpy_Python_Cheat_Sheet.pdf)\n",
    "3. [Introduction to Numerical Computing with NumPy](https://www.youtube.com/watch?v=ZB7BZMhfPgk)\n",
    "4. [Python Numpy Tutorial](https://cs231n.github.io/python-numpy-tutorial/)\n",
    "5. [Quickstart tutorial](https://numpy.org/doc/stable/user/quickstart.html)\n",
    "6. [SciPy](https://scipy.org/)\n",
    "7. [NumPy Illustrated: The Visual Guide to NumPy](https://medium.com/better-programming/numpy-illustrated-the-visual-guide-to-numpy-3b1d4976de1d)\n",
    "8. [101 NumPy Exercises for Data Analysis](https://www.machinelearningplus.com/python/101-numpy-exercises-python/)\n",
    "9. [Case Study: First Image of a Black Hole](https://numpy.org/case-studies/blackhole-image/)"
   ]
  },
  {
   "cell_type": "markdown",
   "metadata": {
    "id": "lZMyAdqhL9hY"
   },
   "source": [
    "### Tutorial\n",
    "To use Numpy, we first need to import the `numpy` package:"
   ]
  },
  {
   "cell_type": "code",
   "execution_count": null,
   "metadata": {
    "id": "58QdX8BLL9hZ"
   },
   "outputs": [],
   "source": [
    "import numpy as np"
   ]
  },
  {
   "cell_type": "markdown",
   "metadata": {
    "id": "iF3ZtwVNL9jQ"
   },
   "source": [
    "This brief overview has touched on many of the important things that you need to know about numpy, but is far from complete. Check out the [numpy reference](http://docs.scipy.org/doc/numpy/reference/) to find out much more about numpy."
   ]
  },
  {
   "cell_type": "markdown",
   "metadata": {
    "id": "tEINf4bEL9jR"
   },
   "source": [
    "## Matplotlib"
   ]
  },
  {
   "cell_type": "markdown",
   "metadata": {
    "id": "0hgVWLaXL9jR"
   },
   "source": [
    "Matplotlib is a plotting library. In this section give a brief introduction to the `matplotlib.pyplot` module, which provides a plotting system similar to that of MATLAB."
   ]
  },
  {
   "cell_type": "code",
   "execution_count": null,
   "metadata": {
    "id": "cmh_7c6KL9jR"
   },
   "outputs": [],
   "source": [
    "import matplotlib.pyplot as plt"
   ]
  },
  {
   "cell_type": "markdown",
   "metadata": {
    "id": "jOsaA5hGL9jS"
   },
   "source": [
    "By running this special iPython command, we will be displaying plots inline:"
   ]
  },
  {
   "cell_type": "code",
   "execution_count": null,
   "metadata": {
    "id": "ijpsmwGnL9jT"
   },
   "outputs": [],
   "source": [
    "%matplotlib inline"
   ]
  },
  {
   "cell_type": "markdown",
   "metadata": {
    "id": "U5Z_oMoLL9jV"
   },
   "source": [
    "### Plotting"
   ]
  },
  {
   "cell_type": "markdown",
   "metadata": {
    "id": "6QyFJ7dhL9jV"
   },
   "source": [
    "The most important function in `matplotlib` is plot, which allows you to plot 2D data. Here is a simple example:"
   ]
  },
  {
   "cell_type": "code",
   "execution_count": null,
   "metadata": {
    "colab": {
     "base_uri": "https://localhost:8080/",
     "height": 282
    },
    "id": "pua52BGeL9jW",
    "outputId": "9ac3ee0f-7ff7-463b-b901-c33d21a2b10c"
   },
   "outputs": [],
   "source": [
    "# Compute the x and y coordinates for points on a sine curve\n",
    "x = np.arange(0, 3 * np.pi, 0.1)\n",
    "y = np.sin(x)\n",
    "\n",
    "# Plot the points using matplotlib\n",
    "plt.plot(x, y)"
   ]
  },
  {
   "cell_type": "markdown",
   "metadata": {
    "id": "9W2VAcLiL9jX"
   },
   "source": [
    "With just a little bit of extra work we can easily plot multiple lines at once, and add a title, legend, and axis labels:"
   ]
  },
  {
   "cell_type": "code",
   "execution_count": null,
   "metadata": {
    "colab": {
     "base_uri": "https://localhost:8080/",
     "height": 312
    },
    "id": "TfCQHJ5AL9jY",
    "outputId": "fdb9c033-0f06-4041-a69d-a0f3a54c7206"
   },
   "outputs": [],
   "source": [
    "y_sin = np.sin(x)\n",
    "y_cos = np.cos(x)\n",
    "\n",
    "# Plot the points using matplotlib\n",
    "plt.plot(x, y_sin)\n",
    "plt.plot(x, y_cos)\n",
    "plt.xlabel('x axis label')\n",
    "plt.ylabel('y axis label')\n",
    "plt.title('Sine and Cosine')\n",
    "plt.legend(['Sine', 'Cosine'])"
   ]
  }
 ],
 "metadata": {
  "colab": {
   "authorship_tag": "ABX9TyOBI9LMQ5qRuUE5Xu0n8jgv",
   "include_colab_link": true,
   "name": "PythonPart3.ipynb",
   "provenance": [],
   "toc_visible": true
  },
  "kernelspec": {
   "display_name": "Python 3",
   "language": "python",
   "name": "python3"
  },
  "language_info": {
   "codemirror_mode": {
    "name": "ipython",
    "version": 3
   },
   "file_extension": ".py",
   "mimetype": "text/x-python",
   "name": "python",
   "nbconvert_exporter": "python",
   "pygments_lexer": "ipython3",
   "version": "3.8.5"
  }
 },
 "nbformat": 4,
 "nbformat_minor": 4
}
