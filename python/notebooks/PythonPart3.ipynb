{
  "nbformat": 4,
  "nbformat_minor": 0,
  "metadata": {
    "colab": {
      "name": "PythonPart3.ipynb",
      "provenance": [],
      "toc_visible": true
    },
    "kernelspec": {
      "name": "python3",
      "display_name": "Python 3"
    }
  },
  "cells": [
    {
      "cell_type": "markdown",
      "metadata": {
        "id": "BpyXuFXHPkzl"
      },
      "source": [
        "### **Python programing practice notebook part 3**"
      ]
    },
    {
      "cell_type": "markdown",
      "metadata": {
        "id": "yoQamo8dWpli"
      },
      "source": [
        "#### **Difrenct type of programing style**\n",
        "\n",
        "1. **Functional programming (FP)** is a programming paradigm — a style of building the structure and elements of computer programs — that treats computation as the evaluation of mathematical functions and avoids changing-state and mutable data.\n",
        "2. **Object-oriented programming (OOP)** is a programming paradigm based on the concept of objects, which may contain data, in the form of fields, often known as attributes; and code, in the form of procedures, often known as methods.”\n",
        "3. **Procedural programming** is a programming paradigm, derived from structured programming, based upon the concept of the procedure call. Procedures, also known as routines, subroutines, or functions, simply contain a series of computational steps to be carried out.”\n",
        "\n",
        "Source: [Functional vs Object-Oriented vs Procedural Programming](https://medium.com/@LiliOuakninFelsen/functional-vs-object-oriented-vs-procedural-programming-a3d4585557f3)"
      ]
    },
    {
      "cell_type": "markdown",
      "metadata": {
        "id": "xdt--NIwGjJ7"
      },
      "source": [
        "#### **Objected-orinted programing**\n",
        "\n",
        ">One of the popular approaches to solve a programming problem is by creating objects. This is known as Object-Oriented Programming (OOP). An object has two characteristics:\n",
        "\n",
        "* attributes\n",
        "* behavior\n",
        "\n",
        ">Let's take an example: A parrot is can be an object,as it has the following properties:\n",
        "> name, age, color as attributes\n",
        "> singing, dancing as behavior\n",
        "\n",
        "> The concept of OOP in Python focuses on creating reusable code. This concept is also known as DRY (Don't Repeat Yourself)."
      ]
    },
    {
      "cell_type": "markdown",
      "metadata": {
        "id": "vx89--vbINqg"
      },
      "source": [
        "#### **Class**\n",
        "\n",
        "> A class is a blueprint for the object.\n",
        "\n",
        "> We can think of class as a sketch of a parrot with labels. It contains all the details about the name, colors, size etc. Based on these descriptions, we can study about the parrot. Here, a parrot is an object.\n",
        "\n",
        "> The example for class of parrot can be :\n",
        "\n",
        "```python\n",
        "class Parrot:\n",
        "    pass\n",
        "```"
      ]
    },
    {
      "cell_type": "markdown",
      "metadata": {
        "id": "Y870rb1JLEsR"
      },
      "source": [
        "\n",
        "### **Object**\n",
        "> An object (instance) is an instantiation of a class. When class is defined, only the description for the object is defined. Therefore, no memory or storage is allocated.\n",
        "\n",
        "> The example for object of parrot class can be:\n",
        "\n",
        "```python \n",
        "obj = Parrot()\n",
        "```\n",
        ">Here, obj is an object of class Parrot."
      ]
    },
    {
      "cell_type": "code",
      "metadata": {
        "colab": {
          "base_uri": "https://localhost:8080/"
        },
        "id": "7Qg24F1TIF23",
        "outputId": "c0846652-fc8c-4ce4-9d19-4cb6e79f569e"
      },
      "source": [
        "# Example 1: Creating Class and Object in Python\n",
        "import math\n",
        "class Number():\n",
        "  value = 4\n",
        "\n",
        "  def square_root(self):\n",
        "    return math.sqrt(self.value) \n",
        "\n",
        "num = Number()\n",
        "print(num.square_root())"
      ],
      "execution_count": 6,
      "outputs": [
        {
          "output_type": "stream",
          "text": [
            "2.0\n"
          ],
          "name": "stdout"
        }
      ]
    },
    {
      "cell_type": "code",
      "metadata": {
        "id": "ms8fE11rMcYj"
      },
      "source": [
        "# Example 2 : Creating Methods in Python\n"
      ],
      "execution_count": null,
      "outputs": []
    },
    {
      "cell_type": "code",
      "metadata": {
        "id": "j1YFPNyDMljT"
      },
      "source": [
        "# Example 3: Use of Inheritance in Python"
      ],
      "execution_count": null,
      "outputs": []
    },
    {
      "cell_type": "code",
      "metadata": {
        "id": "oGGSZV42ODOR"
      },
      "source": [
        "# Example 4: Data Encapsulation in Python"
      ],
      "execution_count": null,
      "outputs": []
    }
  ]
}