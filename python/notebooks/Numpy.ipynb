{
  "nbformat": 4,
  "nbformat_minor": 0,
  "metadata": {
    "colab": {
      "name": "PythonPart3.ipynb",
      "provenance": [],
      "toc_visible": true,
      "authorship_tag": "ABX9TyOBI9LMQ5qRuUE5Xu0n8jgv",
      "include_colab_link": true
    },
    "kernelspec": {
      "name": "python3",
      "display_name": "Python 3",
      "language": "python"
    }
  },
  "cells": [
    {
      "cell_type": "markdown",
      "metadata": {
        "id": "BpyXuFXHPkzl"
      },
      "source": [
        "### **Numpy practice notebook"
      ]
    },
    {
      "source": [
        "### **Numpy Overview**\n",
        "\n",
        "NumPy is a library for the Python programming language, adding support for large, multi-dimensional arrays and matrices, along with a large collection of high-level mathematical functions to operate on these arrays. The ancestor of NumPy, Numeric, was originally created by Jim Hugunin with contributions from several other developers. In 2005, Travis Oliphant created NumPy by incorporating features of the competing Numarray into Numeric, with extensive modifications [Numpy in wikipedia](https://en.wikipedia.org/wiki/NumPy).\n",
        "\n",
        "Since NumPy was introduced to the world 15 years ago, the primary array programming library has grown into the fundamental package for scientific computing with Python. NumPy serves as an efficient multi-dimensional container of generic data and plays a leading role in scientific computing. It is an essential component in research analysis pipelines across fields as diverse as physics, chemistry, astronomy, geoscience, biology, psychology, materials science, engineering, finance and economics. NumPy is open-sourced and has myriad contributors ([After 15 Long Years, a NumPy Paper Finally Appears!](https://medium.com/syncedreview/after-15-long-years-a-numpy-paper-finally-appears-38875a81b899)).\n",
        "\n",
        "![](https://miro.medium.com/max/800/0*S0IPaotuUn-fhnOj.png)\n",
        "\n",
        "But one thing has always been missing. A thorough review paper that is fully representative of the team behind Numpy’s genesis has never been published.\n",
        "The missing chapter in the NumPy story was published in September 2020 — with the appearance of the paper Array Programming with NumPy in leading scientific journal Nature.\n",
        "\n",
        "\n",
        "![](../media/numpy_paper.png)\n",
        "\n",
        "[Numpy Team in twiter](https://twitter.com/numpy_team)\n",
        "\n",
        "\n",
        "\n",
        "\n",
        "\n",
        "### **Why Numpy is so fundemental** \n",
        "\n",
        "NumPy. This library has become fundamental, it is hard to imagine a world without it, or before its birth. NumPy has been around since 2005, and if you ever worked with data in Python, you must have used it, one way or the other.\n",
        "\n",
        "### **What Makes NumPy So Good?**\n",
        "NumPy has a syntax which is simultaneously compact, powerful and expressive. It allows users to manage data in vectors, matrices and higher dimensional arrays. Within those data structures, it allows users to:\n",
        "\n",
        "* Access\n",
        "* Manipulate\n",
        "* Compute\n",
        "\n",
        "Do you recall this picture?\n",
        "\n",
        "![](https://miro.medium.com/max/500/1*oV-HpkvZlDWmQgYqlyd60Q.jpeg)\n",
        "\n",
        "The effort to obtain the first representation of a black hole was made possible, not only by the hard work and dedication of a team of researchers but by the support of Numpy ([Source](https://towardsdatascience.com/why-numpy-is-so-fundamental-78ae2807300))\n",
        "\n",
        "#### Sources and Contents to review \n",
        "### To read\n",
        "1. [Data Camp Cheat Sheet](https://s3.amazonaws.com/assets.datacamp.com/blog_assets/Numpy_Python_Cheat_Sheet.pdf)\n",
        "\n"
      ],
      "cell_type": "markdown",
      "metadata": {
        "id": "yoQamo8dWpli"
      }
    },
    {
      "cell_type": "code",
      "execution_count": null,
      "metadata": {},
      "outputs": [],
      "source": []
    }
  ]
}